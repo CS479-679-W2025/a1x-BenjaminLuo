{
  "cells": [
    {
      "cell_type": "markdown",
      "metadata": {},
      "source": [
        "# A1: Neuron Models"
      ]
    },
    {
      "cell_type": "markdown",
      "metadata": {},
      "source": [
        "## Prelims"
      ]
    },
    {
      "cell_type": "code",
      "execution_count": null,
      "metadata": {},
      "outputs": [],
      "source": [
        "import numpy as np\n",
        "import matplotlib.pyplot as plt\n",
        "\n",
        "import neuron_models as nm\n",
        "import ans as ans\n",
        "\n",
        "# These next two lines automatically reload the imports if they are changed.\n",
        "%load_ext autoreload\n",
        "%autoreload 2"
      ]
    },
    {
      "cell_type": "code",
      "execution_count": null,
      "metadata": {},
      "outputs": [],
      "source": []
    },
    {
      "cell_type": "markdown",
      "metadata": {},
      "source": [
        "# Q3: Two LIF Neurons"
      ]
    },
    {
      "cell_type": "markdown",
      "metadata": {},
      "source": [
        "## (a)"
      ]
    },
    {
      "cell_type": "code",
      "execution_count": 3,
      "metadata": {},
      "outputs": [],
      "source": [
        "#=========== YOUR CODE (start) ===========\n",
        "#YOUR CODE HERE\n",
        "\n",
        "#=========== YOUR CODE (end) ==========="
      ]
    },
    {
      "cell_type": "markdown",
      "metadata": {},
      "source": [
        "## (b)"
      ]
    },
    {
      "cell_type": "code",
      "execution_count": null,
      "metadata": {},
      "outputs": [],
      "source": [
        "#=========== YOUR CODE (start) ===========\n",
        "#YOUR CODE HERE\n",
        "\n",
        "#=========== YOUR CODE (end) ==========="
      ]
    },
    {
      "cell_type": "markdown",
      "metadata": {},
      "source": [
        "# Q4: LIF Firing Rate Experiment"
      ]
    },
    {
      "cell_type": "markdown",
      "metadata": {},
      "source": [
        "## (a)"
      ]
    },
    {
      "cell_type": "code",
      "execution_count": 5,
      "metadata": {},
      "outputs": [],
      "source": [
        "#=========== YOUR CODE (start) ===========\n",
        "#YOUR CODE HERE\n",
        "\n",
        "#=========== YOUR CODE (end) ==========="
      ]
    },
    {
      "cell_type": "markdown",
      "metadata": {},
      "source": [
        "## (b)"
      ]
    },
    {
      "cell_type": "code",
      "execution_count": 6,
      "metadata": {},
      "outputs": [],
      "source": [
        "#=========== YOUR CODE (start) ===========\n",
        "#YOUR CODE HERE\n",
        "\n",
        "#=========== YOUR CODE (end) ==========="
      ]
    },
    {
      "cell_type": "markdown",
      "metadata": {},
      "source": [
        "## (c)"
      ]
    },
    {
      "cell_type": "code",
      "execution_count": null,
      "metadata": {},
      "outputs": [],
      "source": [
        "#=========== YOUR CODE (start) ===========\n",
        "#YOUR CODE HERE\n",
        "\n",
        "#=========== YOUR CODE (end) ==========="
      ]
    },
    {
      "cell_type": "code",
      "execution_count": null,
      "metadata": {},
      "outputs": [],
      "source": []
    }
  ],
  "metadata": {
    "kernelspec": {
      "display_name": "cs479",
      "language": "python",
      "name": "python3"
    },
    "language_info": {
      "codemirror_mode": {
        "name": "ipython",
        "version": 3
      },
      "file_extension": ".py",
      "mimetype": "text/x-python",
      "name": "python",
      "nbconvert_exporter": "python",
      "pygments_lexer": "ipython3",
      "version": "3.11.11"
    }
  },
  "nbformat": 4,
  "nbformat_minor": 2
}
